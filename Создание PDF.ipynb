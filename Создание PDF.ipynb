{
 "cells": [
  {
   "cell_type": "code",
   "execution_count": 27,
   "metadata": {},
   "outputs": [
    {
     "name": "stdout",
     "output_type": "stream",
     "text": [
      "['Courier', 'Courier-Bold', 'Courier-BoldOblique', 'Courier-Oblique', 'Helvetica', 'Helvetica-Bold', 'Helvetica-BoldOblique', 'Helvetica-Oblique', 'Symbol', 'Times-Bold', 'Times-BoldItalic', 'Times-Italic', 'Times-Roman', 'ZapfDingbats']\n"
     ]
    }
   ],
   "source": [
    "# pyPDF2 / pyMuPDF (fitz) / ReportLab / PyFPDF: data -> PDF\n",
    "# pdfminer / pdfminer.six / pdfquery: PDF -> data\n",
    "# pyhtmldoc / xhtml2pdf / pdfkit: (data ->) HTML -> PDF\n",
    "from reportlab.pdfgen import canvas\n",
    "from reportlab.lib import pagesizes\n",
    "from reportlab.pdfbase import pdfmetrics\n",
    "from reportlab.pdfbase.ttfonts import TTFont\n",
    "\n",
    "PDF = canvas.Canvas(\"title.pdf\", pagesize = pagesizes.A4)\n",
    "print (PDF.getAvailableFonts())\n",
    "pdfmetrics.registerFont(TTFont(\"Trebuchet\", \"Trebuchet.ttf\"))\n",
    "PDF.setFont(\"Trebuchet\", 13)\n",
    "PDF.drawString(30, 820, \"ITtensive/\")\n",
    "PDF.drawString(197, 820, \"Python PDF\")\n",
    "PDF.drawString(430, 20, \"от команды ITtensive\")\n",
    "PDF.drawString(550, 820, \"1\")\n",
    "PDF.setFont(\"Trebuchet\", 48)\n",
    "PDF.drawString(180, 550, \"Культурная\")\n",
    "PDF.drawString(185, 490, \"статистика\")\n",
    "PDF.drawString(215, 430, \"Москвы\")\n",
    "PDF.save()"
   ]
  }
 ],
 "metadata": {
  "kernelspec": {
   "display_name": "Python 3",
   "language": "python",
   "name": "python3"
  },
  "language_info": {
   "codemirror_mode": {
    "name": "ipython",
    "version": 3
   },
   "file_extension": ".py",
   "mimetype": "text/x-python",
   "name": "python",
   "nbconvert_exporter": "python",
   "pygments_lexer": "ipython3",
   "version": "3.7.5"
  }
 },
 "nbformat": 4,
 "nbformat_minor": 2
}
