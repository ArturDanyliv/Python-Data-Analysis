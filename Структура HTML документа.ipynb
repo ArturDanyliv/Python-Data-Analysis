{
 "cells": [
  {
   "cell_type": "code",
   "execution_count": 2,
   "metadata": {},
   "outputs": [
    {
     "data": {
      "text/html": [
       "<html>\n",
       "    <head>\n",
       "        <title>Заголовок документа</title>\n",
       "    </head>\n",
       "    <body>\n",
       "        <h1 style=\"background:#666;padding:10px;color:#fff\">\n",
       "            Заголовок текста\n",
       "        </h1>\n",
       "        <p>Описание проекта\n",
       "            <a href=\"https://www.ittensive.com/\">ссылка на сайт</a>\n",
       "        </p>\n",
       "        <p>\n",
       "            <img src=\"libraries.png\" alt=\"Библиотеки Москвы\"/>\n",
       "        </p>\n",
       "        <h2>Табличные данные</h2>\n",
       "        <table>\n",
       "            <thead>\n",
       "                <tr>\n",
       "                    <th>Заголовок таблицы</th><th></th>\n",
       "                </tr>\n",
       "            </thead>\n",
       "            <tbody>\n",
       "                <tr>\n",
       "                    <td>Ячейка таблицы</td><td>Данные</td>\n",
       "                </tr>\n",
       "            </tbody>\n",
       "        </table>\n",
       "    </body>\n",
       "</html>"
      ],
      "text/plain": [
       "<IPython.core.display.HTML object>"
      ]
     },
     "execution_count": 2,
     "metadata": {},
     "output_type": "execute_result"
    }
   ],
   "source": [
    "from IPython.core.display import HTML\n",
    "html = '''<html>\n",
    "    <head>\n",
    "        <title>Заголовок документа</title>\n",
    "    </head>\n",
    "    <body>\n",
    "        <h1 style=\"background:#666;padding:10px;color:#fff\">\n",
    "            Заголовок текста\n",
    "        </h1>\n",
    "        <p>Описание проекта\n",
    "            <a href=\"https://www.ittensive.com/\">ссылка на сайт</a>\n",
    "        </p>\n",
    "        <p>\n",
    "            <img src=\"libraries.png\" alt=\"Библиотеки Москвы\"/>\n",
    "        </p>\n",
    "        <h2>Табличные данные</h2>\n",
    "        <table>\n",
    "            <thead>\n",
    "                <tr>\n",
    "                    <th>Заголовок таблицы</th><th></th>\n",
    "                </tr>\n",
    "            </thead>\n",
    "            <tbody>\n",
    "                <tr>\n",
    "                    <td>Ячейка таблицы</td><td>Данные</td>\n",
    "                </tr>\n",
    "            </tbody>\n",
    "        </table>\n",
    "    </body>\n",
    "</html>'''\n",
    "HTML(html)"
   ]
  }
 ],
 "metadata": {
  "kernelspec": {
   "display_name": "Python 3",
   "language": "python",
   "name": "python3"
  },
  "language_info": {
   "codemirror_mode": {
    "name": "ipython",
    "version": 3
   },
   "file_extension": ".py",
   "mimetype": "text/x-python",
   "name": "python",
   "nbconvert_exporter": "python",
   "pygments_lexer": "ipython3",
   "version": "3.7.5"
  }
 },
 "nbformat": 4,
 "nbformat_minor": 2
}
