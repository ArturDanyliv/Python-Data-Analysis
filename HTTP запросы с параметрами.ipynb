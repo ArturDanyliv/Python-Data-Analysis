{
 "cells": [
  {
   "cell_type": "code",
   "execution_count": 1,
   "metadata": {},
   "outputs": [
    {
     "name": "stdout",
     "output_type": "stream",
     "text": [
      "Код ответа: 200\n",
      "Стоимость отправки: 36.6 руб\n"
     ]
    }
   ],
   "source": [
    "import requests\n",
    "import json\n",
    "request_headers = {\n",
    "    \"Content-Type\": \"application/json\",\n",
    "    \"Accept\": \"application/json;charset=UTF-8\"\n",
    "}\n",
    "#url = \"https://postprice.ru/engine/russia/api.php?from=105064&to=620000&mass=40&valuation=500&vat=1\"\n",
    "url = \"https://postprice.ru/engine/russia/api.php\"\n",
    "response = requests.post(url, headers=request_headers, data=json.dumps({\"param1\": \"value1\", \"param2\": \"value2\"}))\n",
    "\n",
    "print (\"Код ответа:\", response.status_code)\n",
    "r = json.loads(response.text)\n",
    "print (\"Стоимость отправки:\", r[\"simple_letter\"], \"руб\")"
   ]
  }
 ],
 "metadata": {
  "kernelspec": {
   "display_name": "Python 3 (ipykernel)",
   "language": "python",
   "name": "python3"
  },
  "language_info": {
   "codemirror_mode": {
    "name": "ipython",
    "version": 3
   },
   "file_extension": ".py",
   "mimetype": "text/x-python",
   "name": "python",
   "nbconvert_exporter": "python",
   "pygments_lexer": "ipython3",
   "version": "3.9.9"
  }
 },
 "nbformat": 4,
 "nbformat_minor": 2
}
