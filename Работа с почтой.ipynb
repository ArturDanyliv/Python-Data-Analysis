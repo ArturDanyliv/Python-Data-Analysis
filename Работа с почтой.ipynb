{
 "cells": [
  {
   "cell_type": "code",
   "execution_count": 2,
   "metadata": {},
   "outputs": [
    {
     "data": {
      "text/plain": [
       "(221, b'2.0.0 Closing connection.')"
      ]
     },
     "execution_count": 2,
     "metadata": {},
     "output_type": "execute_result"
    }
   ],
   "source": [
    "import smtplib\n",
    "BODY = \"\\r\\n\".join((\n",
    "    \"From: 'Николай' <n@ittensive.com>\",\n",
    "    \"To: support@ittensive.com\",\n",
    "    \"Subject: Тестовое письмо\",\n",
    "    \"Content-Type: text/plain; charset=utf-8\",\n",
    "    \"\",\n",
    "    \"Привет! Это письмо из Python\"\n",
    ")).encode(\"UTF-8\")\n",
    "#user = \"XXXX\"\n",
    "#password = \"XXXX\"\n",
    "server = smtplib.SMTP_SSL(\"smtp.yandex.com\", 465)\n",
    "server.login(user, password)\n",
    "server.sendmail(\"n@ittensive.com\", \"support@ittensive.com\", BODY)\n",
    "server.quit()"
   ]
  }
 ],
 "metadata": {
  "kernelspec": {
   "display_name": "Python 3",
   "language": "python",
   "name": "python3"
  },
  "language_info": {
   "codemirror_mode": {
    "name": "ipython",
    "version": 3
   },
   "file_extension": ".py",
   "mimetype": "text/x-python",
   "name": "python",
   "nbconvert_exporter": "python",
   "pygments_lexer": "ipython3",
   "version": "3.7.5"
  }
 },
 "nbformat": 4,
 "nbformat_minor": 2
}
