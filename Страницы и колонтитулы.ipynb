{
 "cells": [
  {
   "cell_type": "code",
   "execution_count": 11,
   "metadata": {},
   "outputs": [
    {
     "data": {
      "text/plain": [
       "True"
      ]
     },
     "execution_count": 11,
     "metadata": {},
     "output_type": "execute_result"
    }
   ],
   "source": [
    "import pdfkit\n",
    "config = pdfkit.configuration(wkhtmltopdf=\"C://Program Files//wkhtmltopdf//bin//wkhtmltopdf.exe\")\n",
    "options = {\n",
    "    'page-size': 'A4',\n",
    "    'margin-top': '0.5in',\n",
    "    'margin-right': '0.5in',\n",
    "    'margin-left': '0.5in',\n",
    "    'margin-bottom': '0.5in',\n",
    "    'encoding': 'UTF-8',\n",
    "    'footer-html': 'footer.html',\n",
    "    'header-font-name': 'Trebuchet',\n",
    "    'header-right': '[page]',\n",
    "    'page-offset': 1\n",
    "}\n",
    "'''footer.html'''\n",
    "footer = '''<html>\n",
    "<head><meta charset=\"utf-8\"/></head>\n",
    "<body><p>Культурная статистика Москвы</p></body>\n",
    "</html>'''\n",
    "'''final.html'''\n",
    "final = '''<html>\n",
    "<head>\n",
    "    <title>Посещаемость библиотек в Москве</title>\n",
    "    <style>\n",
    "        h2 {page-break-before:always}\n",
    "    </style>\n",
    "</head>\n",
    "<body>\n",
    "    <h1>Посещаемость библиотек в Москве</h1>\n",
    "    <h2>Самые читающие районы</h2>\n",
    "</body>\n",
    "</html>'''\n",
    "#with open(\"final.html\", \"w\", encoding=\"utf-8\") as file:\n",
    "#    file.write(final)\n",
    "#with open(\"footer.html\", \"w\", encoding=\"utf-8\") as file:\n",
    "#    file.write(footer)\n",
    "pdfkit.from_file(\"final.html\", 'final.pdf',\n",
    "                 configuration=config, options=options)"
   ]
  }
 ],
 "metadata": {
  "kernelspec": {
   "display_name": "Python 3 (ipykernel)",
   "language": "python",
   "name": "python3"
  },
  "language_info": {
   "codemirror_mode": {
    "name": "ipython",
    "version": 3
   },
   "file_extension": ".py",
   "mimetype": "text/x-python",
   "name": "python",
   "nbconvert_exporter": "python",
   "pygments_lexer": "ipython3",
   "version": "3.9.9"
  }
 },
 "nbformat": 4,
 "nbformat_minor": 2
}
