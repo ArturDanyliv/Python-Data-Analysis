{
 "cells": [
  {
   "cell_type": "code",
   "execution_count": 4,
   "metadata": {},
   "outputs": [
    {
     "name": "stdout",
     "output_type": "stream",
     "text": [
      "sPT-9Rp-UWS-bG52\n"
     ]
    }
   ],
   "source": [
    "import smtplib\n",
    "from email import encoders\n",
    "from email.mime.text import MIMEText\n",
    "from email.mime.base import MIMEBase\n",
    "from email.mime.multipart import MIMEMultipart\n",
    "letter = MIMEMultipart()\n",
    "letter[\"From\"] = \"Николай\"\n",
    "letter[\"Subject\"] = \"Активности в парках Москвы\"\n",
    "letter[\"Content-Type\"] = \"text/html; charset=utf-8\"\n",
    "letter[\"To\"] = \"support@ittensive.com\"\n",
    "letter.attach(MIMEText(open(\"parks.html\", \"r\",\n",
    "                           encoding=\"UTF-8\").read(), 'html'))\n",
    "attachement = MIMEBase('application', 'pdf')\n",
    "attachement.set_payload(open('parks.pdf', 'rb').read())            \n",
    "attachement.add_header('Content-Disposition',\n",
    "                      'attachement; filename=\"parks.pdf\"')\n",
    "encoders.encode_base64(attachement)\n",
    "letter.attach(attachement)\n",
    "# user = 'XXXX'\n",
    "# password = \"XXXX\"\n",
    "server = smtplib.SMTP_SSL(\"smtp.yandex.com\", 465)\n",
    "server.login(user, password)\n",
    "server.sendmail(\"n@ittensive.com\",\n",
    "               \"support@ittensive.com\",\n",
    "               letter.as_string())\n",
    "server.quit()"
   ]
  }
 ],
 "metadata": {
  "kernelspec": {
   "display_name": "Python 3",
   "language": "python",
   "name": "python3"
  },
  "language_info": {
   "codemirror_mode": {
    "name": "ipython",
    "version": 3
   },
   "file_extension": ".py",
   "mimetype": "text/x-python",
   "name": "python",
   "nbconvert_exporter": "python",
   "pygments_lexer": "ipython3",
   "version": "3.7.5"
  }
 },
 "nbformat": 4,
 "nbformat_minor": 2
}
