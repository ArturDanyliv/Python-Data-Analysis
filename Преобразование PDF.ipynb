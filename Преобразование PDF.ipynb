{
 "cells": [
  {
   "cell_type": "code",
   "execution_count": 29,
   "metadata": {},
   "outputs": [
    {
     "name": "stdout",
     "output_type": "stream",
     "text": [
      "Число страниц 1\n",
      "Metadata {'/Author': 'anonymous', '/CreationDate': \"D:20191205170604-03'00'\", '/Creator': 'ReportLab PDF Library - www.reportlab.com', '/Keywords': '', '/ModDate': \"D:20191205170604-03'00'\", '/Producer': 'ReportLab PDF Library - www.reportlab.com', '/Subject': 'unspecified', '/Title': 'untitled', '/Trapped': '/False'}\n",
      "File Author anonymous\n",
      "File Creator ReportLab PDF Library - www.reportlab.com\n"
     ]
    }
   ],
   "source": [
    "from PyPDF2 import PdfFileMerger, PdfFileReader\n",
    "from PIL import Image\n",
    "\n",
    "with open(\"title.pdf\", \"rb\") as pdf_file:\n",
    "    pdf_reader = PdfFileReader(pdf_file)\n",
    "    print(\"Число страниц\", pdf_reader.getNumPages())\n",
    "    print(\"Metadata\", pdf_reader.documentInfo)\n",
    "    print(\"File Author\", pdf_reader.documentInfo[\"/Author\"])\n",
    "    print(\"File Creator\", pdf_reader.documentInfo[\"/Creator\"])\n",
    "    \n",
    "with open(\"libraries.pdf\", \"rb\") as pdf_file:\n",
    "    pdf_reader = PdfFileReader(pdf_file)\n",
    "    for page_num in range(pdf_reader.numPages):\n",
    "        pdf_page = pdf_reader.getPage(page_num)\n",
    "        if '/XObject' in pdf_page['/Resources']:\n",
    "            xObject = pdf_page['/Resources']['/XObject'].getObject()\n",
    "            for obj in xObject:\n",
    "                if xObject[obj]['/Subtype'] == '/Image':\n",
    "                    size = (xObject[obj]['/Width'], xObject[obj]['/Height'])\n",
    "                    data = xObject[obj].getData()\n",
    "                    img = Image.frombytes(\"RGB\", size, data)\n",
    "                    img.save(\"image.png\")\n",
    "\n",
    "files = [\"title.pdf\", \"libraries.pdf\"]\n",
    "merger = PdfFileMerger()\n",
    "for filename in files:\n",
    "    merger.append(PdfFileReader(open(filename, \"rb\")))\n",
    "merger.addMetadata({\n",
    "    '/Producer': \"ITtensive\",\n",
    "    '/Author': \"ITtensive\",\n",
    "    '/Creator': \"ITtensive Python Advanced - www.ittensive.com\",\n",
    "    '/Copyright': \"ITtensive 2019\",\n",
    "    '/Title': \"Культурная статистика Москвы\"\n",
    "})\n",
    "merger.write(\"report.pdf\")"
   ]
  }
 ],
 "metadata": {
  "kernelspec": {
   "display_name": "Python 3",
   "language": "python",
   "name": "python3"
  },
  "language_info": {
   "codemirror_mode": {
    "name": "ipython",
    "version": 3
   },
   "file_extension": ".py",
   "mimetype": "text/x-python",
   "name": "python",
   "nbconvert_exporter": "python",
   "pygments_lexer": "ipython3",
   "version": "3.7.5"
  }
 },
 "nbformat": 4,
 "nbformat_minor": 2
}
