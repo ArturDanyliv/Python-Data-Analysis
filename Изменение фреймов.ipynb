{
 "cells": [
  {
   "cell_type": "code",
   "execution_count": 1,
   "metadata": {},
   "outputs": [
    {
     "name": "stdout",
     "output_type": "stream",
     "text": [
      "                 2018\n",
      "Регион               \n",
      "РЕСПУБЛИКА КРЫМ  0.00\n",
      "РЕСП. ДАГЕСТАН   1.61\n",
      "РЕСП.ИНГУШСКАЯ   0.61\n",
      "ЧЕЧЕНСКАЯ РЕСП.  0.11\n",
      "РЕСП. АЛТАЙ      4.92\n"
     ]
    }
   ],
   "source": [
    "import pandas as pd\n",
    "data = pd.read_csv(\"https://video.ittensive.com/python-advanced/internet-2018.raw.csv\", na_values=\"NA\", names=[\"Регион\", \"int\", \"frac\"], skiprows=1, index_col=\"Регион\")\n",
    "data[\"frac\"] = data[\"frac\"].apply(lambda n:n/100)\n",
    "data[\"2018\"] = data[\"int\"] + data[\"frac\"]\n",
    "data = data.reset_index()\n",
    "data = pd.DataFrame({\"Регион\": data[\"Регион\"], \"2018\": data[\"2018\"]})\n",
    "data = data.set_index(\"Регион\")\n",
    "data_null = data[data[\"2018\"].isnull()].fillna(0, axis=1)\n",
    "data_less5 = data[data[\"2018\"] < 5]\n",
    "data_null_less5 = data_null.append(data_less5)\n",
    "print (data_null_less5.head())"
   ]
  }
 ],
 "metadata": {
  "kernelspec": {
   "display_name": "Python 3 (ipykernel)",
   "language": "python",
   "name": "python3"
  },
  "language_info": {
   "codemirror_mode": {
    "name": "ipython",
    "version": 3
   },
   "file_extension": ".py",
   "mimetype": "text/x-python",
   "name": "python",
   "nbconvert_exporter": "python",
   "pygments_lexer": "ipython3",
   "version": "3.9.9"
  }
 },
 "nbformat": 4,
 "nbformat_minor": 2
}
