{
 "cells": [
  {
   "cell_type": "code",
   "execution_count": 5,
   "metadata": {},
   "outputs": [
    {
     "name": "stdout",
     "output_type": "stream",
     "text": [
      "Loading pages (1/6)\r\n",
      "[>                                                           ] 0%\r",
      "[======>                                                     ] 10%\r",
      "[=======================>                                    ] 39%\r",
      "[==========================>                                 ] 44%\r",
      "[============================================================] 100%\r",
      "Counting pages (2/6)                                               \r\n",
      "[============================================================] Object 1 of 1\r",
      "Resolving links (4/6)                                                       \r\n",
      "[============================================================] Object 1 of 1\r",
      "Loading headers and footers (5/6)                                           \r\n",
      "Printing pages (6/6)\r\n",
      "[>                                                           ] Preparing\r",
      "[=========>                                                  ] Page 1 of 6\r",
      "[===================>                                        ] Page 2 of 6\r",
      "[==============================>                             ] Page 3 of 6\r",
      "[=======================================>                    ] Page 4 of 6\r",
      "[=================================================>          ] Page 5 of 6\r",
      "[============================================================] Page 6 of 6\r",
      "Done                                                                      \r\n"
     ]
    },
    {
     "data": {
      "text/plain": [
       "True"
      ]
     },
     "execution_count": 5,
     "metadata": {},
     "output_type": "execute_result"
    }
   ],
   "source": [
    "import requests\n",
    "import json\n",
    "import pandas as pd\n",
    "import binascii\n",
    "import pdfkit\n",
    "from jinja2 import Template\n",
    "\n",
    "with open('libraries.png', 'rb') as file:\n",
    "    img = 'data:image/png;base64,' + binascii.b2a_base64(file.read(), newline=False).decode(\"UTF-8\")\n",
    "r = requests.get(\"https://video.ittensive.com/python-advanced/data-7361-2019-11-28.utf.json\")\n",
    "data = pd.DataFrame(json.loads(r.content),\n",
    "                   columns=[\"NumOfVisitors\", \"CommonName\"]).fillna(value=0)\n",
    "data.columns = [\"Посетители\", \"Название\"]\n",
    "data.set_index(\"Название\", inplace=True)\n",
    "html_template = '''<html>\n",
    "<head>\n",
    "    <title>Итоговая таблица по библиотекам</title>\n",
    "    <meta charset=\"utf-8\"/>\n",
    "</head>\n",
    "<body>\n",
    "    <h1>Распределение посетителей</h1>\n",
    "    <img src=\"{{data.image}}\" alt=\"Распределение посетителей\">\n",
    "    <h2>Данные по библиотекам</h2>\n",
    "    {{data.table}}\n",
    "</body>\n",
    "</html>'''\n",
    "\n",
    "html = Template(html_template).render(data = {\n",
    "    'image': img,\n",
    "    'table': data.to_html()\n",
    "})\n",
    "\n",
    "config = pdfkit.configuration(wkhtmltopdf='C:/Program Files/wkhtmltopdf/bin/wkhtmltopdf.exe')\n",
    "options = {\n",
    "    'page-size': 'A4',\n",
    "    'header-right': '[page]'\n",
    "}\n",
    "pdfkit.from_string(html, 'libraries.total.pdf',\n",
    "                  configuration=config, options = options)"
   ]
  }
 ],
 "metadata": {
  "kernelspec": {
   "display_name": "Python 3",
   "language": "python",
   "name": "python3"
  },
  "language_info": {
   "codemirror_mode": {
    "name": "ipython",
    "version": 3
   },
   "file_extension": ".py",
   "mimetype": "text/x-python",
   "name": "python",
   "nbconvert_exporter": "python",
   "pygments_lexer": "ipython3",
   "version": "3.7.5"
  }
 },
 "nbformat": 4,
 "nbformat_minor": 2
}
